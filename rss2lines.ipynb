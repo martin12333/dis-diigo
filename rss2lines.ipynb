{
 "cells": [
  {
   "cell_type": "code",
   "execution_count": 1,
   "metadata": {
    "collapsed": false
   },
   "outputs": [],
   "source": [
    "import nltk, re, pprint\n",
    "from nltk import word_tokenize"
   ]
  },
  {
   "cell_type": "code",
   "execution_count": 2,
   "metadata": {
    "collapsed": false
   },
   "outputs": [],
   "source": [
    "#path = '/mnt/dee/Downloads/s.f/8089759_xml_2015_09_13_8f09c.xml'\n",
    "#path = '/home/martin/Downloads/1997 LETTER TO SHAREHOLDERS_2015_09_02_6e847 (copy).xml'\n",
    "#/home/martin/Downloads/tr-cduvozmezera-~uvoz.xml\n",
    "#path = '/home/martin/Downloads/tr.xml'\n",
    "path = '/home/martin/Dropbox/dis-DIIGO.g6/2017_04_08-bez-cntrl.xml'\n",
    "path = '/media/martin/bk03/w/vibo/XML-DIIGO/8089759_xml_2018_07_14_332ac.xml'\n",
    "\n",
    "from bs4 import BeautifulSoup, CData\n",
    " \n",
    "soup = BeautifulSoup(open(path,'r'),  'xml')\n",
    " \n",
    "\n",
    "\n",
    "import html.parser\n",
    "html_parser = html.parser.HTMLParser()"
   ]
  },
  {
   "cell_type": "code",
   "execution_count": 3,
   "metadata": {
    "collapsed": false
   },
   "outputs": [],
   "source": [
    "#soup\n",
    "# on to xml s spatnumi byty asi vubec nenatahl"
   ]
  },
  {
   "cell_type": "code",
   "execution_count": 4,
   "metadata": {
    "collapsed": false
   },
   "outputs": [],
   "source": [
    "###for cd in soup.findAll(text=True):\n",
    "  ###if isinstance(cd, CData):\n",
    "    \n",
    "#cdatalist = [\n",
    "#]\n",
    "\n",
    "textl=[\n",
    "    ##x.find('link').string + ' en ' +\n",
    "    #x.find('link').string + '  ' +\n",
    "    #x.find('title').string+ '  ' +\n",
    "    BeautifulSoup(\n",
    "        html_parser.unescape(\n",
    "            x.find('description').string\n",
    "        )\n",
    "    ).get_text()\n",
    "    for x in soup.findAll('item')\n",
    "]"
   ]
  },
  {
   "cell_type": "code",
   "execution_count": 5,
   "metadata": {
    "collapsed": false
   },
   "outputs": [],
   "source": [
    "#textl"
   ]
  },
  {
   "cell_type": "code",
   "execution_count": null,
   "metadata": {
    "collapsed": false
   },
   "outputs": [],
   "source": []
  },
  {
   "cell_type": "code",
   "execution_count": 6,
   "metadata": {
    "collapsed": false
   },
   "outputs": [],
   "source": [
    "linelist = [ \" \".join(s.split())\n",
    " for s in textl\n",
    "]"
   ]
  },
  {
   "cell_type": "code",
   "execution_count": 7,
   "metadata": {
    "collapsed": false
   },
   "outputs": [],
   "source": [
    "with open(\"rss2lines-000c-000b-nlink-ntitle,i7e.lines.txt\", \"w\") as f:\n",
    "    for line in linelist:\n",
    "        print(line, file=f)# line file"
   ]
  },
  {
   "cell_type": "code",
   "execution_count": 7,
   "metadata": {
    "collapsed": false
   },
   "outputs": [],
   "source": [
    "r = \" \".join(linelist)"
   ]
  },
  {
   "cell_type": "code",
   "execution_count": 8,
   "metadata": {
    "collapsed": false
   },
   "outputs": [],
   "source": [
    "# with open(\"file.txt\", \"w\") as f: f.write(soup.prettify().encode('utf8'))\n",
    "####type(raw)"
   ]
  },
  {
   "cell_type": "code",
   "execution_count": 9,
   "metadata": {
    "collapsed": false
   },
   "outputs": [],
   "source": [
    "#import string\n"
   ]
  },
  {
   "cell_type": "code",
   "execution_count": 10,
   "metadata": {
    "collapsed": false
   },
   "outputs": [
    {
     "ename": "NameError",
     "evalue": "name 'word_tokenize' is not defined",
     "output_type": "error",
     "traceback": [
      "\u001b[0;31m---------------------------------------------------------------------------\u001b[0m\n\u001b[0;31mNameError\u001b[0m                                 Traceback (most recent call last)",
      "\u001b[0;32m<ipython-input-10-2bece20b5c42>\u001b[0m in \u001b[0;36m<module>\u001b[0;34m()\u001b[0m\n\u001b[0;32m----> 1\u001b[0;31m \u001b[0mtokens\u001b[0m \u001b[0;34m=\u001b[0m \u001b[0mword_tokenize\u001b[0m\u001b[0;34m(\u001b[0m\u001b[0mr\u001b[0m\u001b[0;34m.\u001b[0m\u001b[0mlower\u001b[0m\u001b[0;34m(\u001b[0m\u001b[0;34m)\u001b[0m\u001b[0;34m)\u001b[0m\u001b[0;34m\u001b[0m\u001b[0m\n\u001b[0m\u001b[1;32m      2\u001b[0m \u001b[0;31m#print(raw)\u001b[0m\u001b[0;34m\u001b[0m\u001b[0;34m\u001b[0m\u001b[0m\n\u001b[1;32m      3\u001b[0m \u001b[0;31m#print(tokens)\u001b[0m\u001b[0;34m\u001b[0m\u001b[0;34m\u001b[0m\u001b[0m\n\u001b[1;32m      4\u001b[0m \u001b[0;31m#%history\u001b[0m\u001b[0;34m\u001b[0m\u001b[0;34m\u001b[0m\u001b[0m\n",
      "\u001b[0;31mNameError\u001b[0m: name 'word_tokenize' is not defined"
     ]
    }
   ],
   "source": [
    "tokens = word_tokenize(r.lower())\n",
    "#print(raw)\n",
    "#print(tokens)\n",
    "#%history"
   ]
  },
  {
   "cell_type": "code",
   "execution_count": 20,
   "metadata": {
    "collapsed": false
   },
   "outputs": [],
   "source": [
    "sst=sorted(set(tokens))"
   ]
  },
  {
   "cell_type": "code",
   "execution_count": 21,
   "metadata": {
    "collapsed": false
   },
   "outputs": [
    {
     "name": "stdout",
     "output_type": "stream",
     "text": [
      "9003\n"
     ]
    },
    {
     "data": {
      "text/plain": [
       "43771"
      ]
     },
     "execution_count": 21,
     "metadata": {},
     "output_type": "execute_result"
    }
   ],
   "source": [
    "print(len(sst))\n",
    "len(tokens)"
   ]
  },
  {
   "cell_type": "code",
   "execution_count": 22,
   "metadata": {
    "collapsed": false
   },
   "outputs": [],
   "source": [
    ">>> text = nltk.Text(tokens)\n"
   ]
  },
  {
   "cell_type": "code",
   "execution_count": 23,
   "metadata": {
    "collapsed": false
   },
   "outputs": [
    {
     "name": "stdout",
     "output_type": "stream",
     "text": [
      "Sticky notes; free encyclopedia; Stack Overflow; encyclopedia Tags;\n",
      "Overflow Tags; Ask Ubuntu; KB/sec transfer; transfer rate; topic\n",
      "modeling; withdrawal symptoms; Ubuntu Tags; Apache Solr; sudo apt-get;\n",
      "Topic Modeling; Citalopram Tablets; side effects; Beautiful Soup;\n",
      "documentation Tags; autistic person; days Day2-3; -not -name;\n",
      "Surviving Antidepressants; bipolar disorder; User Forum; bs4 import;\n",
      "regular expressions; tři období; command line; Text Analysis; Upload\n",
      "Speed; citation needed; Download Speed; TAB 20-3; Traci Johnson;\n",
      "cautious cross-tapering*; dental implants; doplnění záznamů; výplatu\n",
      "zůstatku; apt-get install; system tray; tag clouds; Fried said;\n",
      "Občanského zákoníku; Seznamka GRAND; Total Cost; chemical imbalance;\n",
      "user interface; autistic people; Phrase Extraction; Project Hosting;\n",
      "výběr partnera; search engines; Day2-3 Wellbutrin; Tag Clouds; vkladní\n",
      "knížku; collage maker; pattern space; g0,02 g0,002; vkladový vztah;\n",
      "severe withdrawal; Biological half-life; Kern TAB; import\n",
      "BeautifulSoup; apt-get remove; plain text; Evernote User; dialogue\n",
      "act; cased characters; Sample Code; contains cased; conditional\n",
      "frequency; graphical user; systematic review; taking antidepressants;\n",
      "Text Corpora; anything else; g0,002 g0,002; Wiki Tags; -Rf\n",
      "example/cloud/; Attack Surface; Bruce Barnett; Clive Sinclair;\n",
      "Communities Dominate; Daemon Attack; Dominate Brands; Eric Pement;\n",
      "Freemind Mind; Frequently Asked; General Discussions; Jürgen Weigert;\n",
      "Kronrádovo spektrum; Latent Dirichlet; Leading suspect; Low Level; Map\n",
      "Generator; Mind Map; Neil Cohn; Phil Libin; Provider Resilience;\n",
      "Silicon rally\n"
     ]
    }
   ],
   "source": [
    "text.collocations(num=100)"
   ]
  },
  {
   "cell_type": "code",
   "execution_count": null,
   "metadata": {
    "collapsed": false
   },
   "outputs": [],
   "source": []
  },
  {
   "cell_type": "code",
   "execution_count": 7,
   "metadata": {
    "collapsed": false
   },
   "outputs": [
    {
     "name": "stdout",
     "output_type": "stream",
     "text": [
      "*** Introductory Examples for the NLTK Book ***\n",
      "Loading text1, ..., text9 and sent1, ..., sent9\n",
      "Type the name of the text or sentence to view it.\n",
      "Type: 'texts()' or 'sents()' to list the materials.\n",
      "text1: Moby Dick by Herman Melville 1851\n",
      "text2: Sense and Sensibility by Jane Austen 1811\n",
      "text3: The Book of Genesis\n",
      "text4: Inaugural Address Corpus\n",
      "text5: Chat Corpus\n",
      "text6: Monty Python and the Holy Grail\n",
      "text7: Wall Street Journal\n",
      "text8: Personals Corpus\n",
      "text9: The Man Who Was Thursday by G . K . Chesterton 1908\n",
      "<FreqDist with 5425 samples and 19174 outcomes>\n"
     ]
    },
    {
     "data": {
      "text/plain": [
       "[(',', 940),\n",
       " ('.', 935),\n",
       " (':', 509),\n",
       " ('the', 413),\n",
       " ('of', 339),\n",
       " ('and', 335),\n",
       " ('a', 290),\n",
       " ('to', 280),\n",
       " (')', 191),\n",
       " ('(', 185),\n",
       " ('in', 172),\n",
       " ('2015', 169),\n",
       " ('[', 122),\n",
       " (']', 122),\n",
       " ('Vytvořeno', 120),\n",
       " ('for', 114),\n",
       " ('7', 113),\n",
       " ('Zdroj', 112),\n",
       " ('is', 109),\n",
       " ('that', 104),\n",
       " ('The', 77),\n",
       " ('-', 76),\n",
       " ('as', 75),\n",
       " ('http', 75),\n",
       " ('%', 68),\n",
       " ('by', 68),\n",
       " ('was', 65),\n",
       " ('or', 65),\n",
       " ('with', 62),\n",
       " ('?', 62),\n",
       " ('it', 62),\n",
       " ('from', 58),\n",
       " ('&', 56),\n",
       " ('drug', 56),\n",
       " ('on', 56),\n",
       " ('na', 54),\n",
       " ('are', 52),\n",
       " (\"''\", 52),\n",
       " ('22', 51),\n",
       " ('I', 49),\n",
       " ('``', 48),\n",
       " (\"'s\", 48),\n",
       " ('https', 47),\n",
       " ('up', 45),\n",
       " ('July', 45),\n",
       " ('se', 44),\n",
       " ('Share', 43),\n",
       " ('you', 43),\n",
       " (';', 43),\n",
       " ('be', 43)]"
      ]
     },
     "execution_count": 7,
     "metadata": {},
     "output_type": "execute_result"
    }
   ],
   "source": [
    "from nltk.book import *\n",
    ">>> fdist1 = FreqDist(text) \n",
    ">>> print(fdist1) \n",
    "\n",
    ">>> fdist1.most_common(50) "
   ]
  },
  {
   "cell_type": "code",
   "execution_count": 8,
   "metadata": {
    "collapsed": false
   },
   "outputs": [
    {
     "data": {
      "text/plain": [
       "['//survivingantidepressants.org/index.php',\n",
       " 'Antidepressant',\n",
       " 'Biological',\n",
       " 'Citalopram',\n",
       " 'Psychiatry',\n",
       " 'Self-medication',\n",
       " 'abstinenční',\n",
       " 'antidepressant',\n",
       " 'benzodiazepines',\n",
       " 'benzodiazepiny',\n",
       " 'benzodiazepinů',\n",
       " 'dependence',\n",
       " 'depression',\n",
       " 'development',\n",
       " 'discontinuation',\n",
       " 'discontinuing',\n",
       " 'encyclopedia',\n",
       " 'highlights',\n",
       " 'individual',\n",
       " 'individuals',\n",
       " 'medication',\n",
       " 'psychiatric',\n",
       " 'psychovzorec',\n",
       " 'self-medication',\n",
       " 'smartphone',\n",
       " 'technology',\n",
       " 'withdrawal']"
      ]
     },
     "execution_count": 8,
     "metadata": {},
     "output_type": "execute_result"
    }
   ],
   "source": [
    "text5=text\n",
    ">>> fdist5 = FreqDist(text5)\n",
    ">>> sorted(w for w in set(text5) if len(w) > 9 and fdist5[w] > 7)\n"
   ]
  },
  {
   "cell_type": "code",
   "execution_count": null,
   "metadata": {
    "collapsed": false
   },
   "outputs": [],
   "source": [
    "#>>> import feedparser\n"
   ]
  },
  {
   "cell_type": "code",
   "execution_count": 13,
   "metadata": {
    "collapsed": false
   },
   "outputs": [],
   "source": [
    "#>>> llog = feedparser.parse(\"file:///mnt/dee/Downloads/s.f/8089759_xml_2015_07_22_b841c.xml\")\n"
   ]
  },
  {
   "cell_type": "code",
   "execution_count": 14,
   "metadata": {
    "collapsed": false
   },
   "outputs": [
    {
     "data": {
      "text/plain": [
       "1064"
      ]
     },
     "execution_count": 14,
     "metadata": {},
     "output_type": "execute_result"
    }
   ],
   "source": [
    "#>>> len(llog.entries)\n"
   ]
  },
  {
   "cell_type": "code",
   "execution_count": 63,
   "metadata": {
    "collapsed": false
   },
   "outputs": [],
   "source": [
    "#e=llog.entries[0]\n",
    "?e.v*\n",
    "?e.description\n",
    "#dir(e)"
   ]
  },
  {
   "cell_type": "code",
   "execution_count": 64,
   "metadata": {
    "collapsed": false
   },
   "outputs": [],
   "source": [
    "#>>> import logging\n",
    "#>>> logging.basicConfig(format='%(asctime)s : %(levelname)s : %(message)s', level=logging.INFO)"
   ]
  },
  {
   "cell_type": "code",
   "execution_count": 28,
   "metadata": {
    "collapsed": false
   },
   "outputs": [
    {
     "ename": "NameError",
     "evalue": "name 'etree' is not defined",
     "output_type": "error",
     "traceback": [
      "\u001b[0;31m---------------------------------------------------------------------------\u001b[0m\n\u001b[0;31mNameError\u001b[0m                                 Traceback (most recent call last)",
      "\u001b[0;32m<ipython-input-28-0b379d48596b>\u001b[0m in \u001b[0;36m<module>\u001b[0;34m()\u001b[0m\n\u001b[1;32m      3\u001b[0m \u001b[0;31m#from lxml.html import parse\u001b[0m\u001b[0;34m\u001b[0m\u001b[0;34m\u001b[0m\u001b[0m\n\u001b[1;32m      4\u001b[0m \u001b[0;32mwith\u001b[0m \u001b[0mopen\u001b[0m\u001b[0;34m(\u001b[0m\u001b[0mpath\u001b[0m\u001b[0;34m,\u001b[0m \u001b[0;34m'rb'\u001b[0m\u001b[0;34m)\u001b[0m \u001b[0;32mas\u001b[0m \u001b[0mf\u001b[0m\u001b[0;34m:\u001b[0m\u001b[0;34m\u001b[0m\u001b[0m\n\u001b[0;32m----> 5\u001b[0;31m     \u001b[0mtree\u001b[0m \u001b[0;34m=\u001b[0m \u001b[0metree\u001b[0m\u001b[0;34m.\u001b[0m\u001b[0mparse\u001b[0m\u001b[0;34m(\u001b[0m\u001b[0mf\u001b[0m\u001b[0;34m)\u001b[0m\u001b[0;34m\u001b[0m\u001b[0m\n\u001b[0m",
      "\u001b[0;31mNameError\u001b[0m: name 'etree' is not defined"
     ]
    }
   ],
   "source": [
    "\n",
    "#from lxml import etree\n",
    "#from lxml.html import parse\n",
    "#with open(path, 'rb') as f:\n",
    " #   tree = etree.parse(f)"
   ]
  },
  {
   "cell_type": "code",
   "execution_count": 58,
   "metadata": {
    "collapsed": false
   },
   "outputs": [],
   "source": [
    "\n",
    "#doc = tree.getroot()\n",
    "\n",
    "#links = doc.findall(\".//title\")"
   ]
  },
  {
   "cell_type": "code",
   "execution_count": 47,
   "metadata": {
    "collapsed": false
   },
   "outputs": [],
   "source": [
    "#soup.findAll('item')\n",
    "#soup\n",
    "with open(\"out.xml\", \"w\") as fw:\n",
    "    fw.write(soup.prettify())\n"
   ]
  },
  {
   "cell_type": "code",
   "execution_count": null,
   "metadata": {
    "collapsed": false
   },
   "outputs": [],
   "source": []
  },
  {
   "cell_type": "code",
   "execution_count": 33,
   "metadata": {
    "collapsed": false
   },
   "outputs": [],
   "source": [
    "?soup.findAll"
   ]
  },
  {
   "cell_type": "code",
   "execution_count": null,
   "metadata": {
    "collapsed": false
   },
   "outputs": [],
   "source": []
  },
  {
   "cell_type": "code",
   "execution_count": 43,
   "metadata": {
    "collapsed": false
   },
   "outputs": [],
   "source": [
    "    #print( ' %r' % y)\n",
    "    #print(type(y.string))\n",
    "\n",
    "    #print(unescaped)\n",
    "    y.string = u"
   ]
  }
 ],
 "metadata": {
  "kernelspec": {
   "display_name": "IPython (Python 3)",
   "language": "python",
   "name": "python3"
  },
  "language_info": {
   "name": "python",
   "version": "3.4.3"
  }
 },
 "nbformat": 4,
 "nbformat_minor": 0
}
